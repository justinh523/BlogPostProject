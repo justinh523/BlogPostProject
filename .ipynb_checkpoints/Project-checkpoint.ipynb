{
 "cells": [
  {
   "cell_type": "code",
   "execution_count": 1,
   "metadata": {},
   "outputs": [],
   "source": [
    "import numpy as np\n",
    "import pandas as pd\n",
    "import matplotlib.pyplot as plt\n",
    "from sklearn.linear_model import LinearRegression\n",
    "from sklearn.model_selection import train_test_split\n",
    "from sklearn.metrics import r2_score, mean_squared_error\n",
    "import seaborn as sns\n",
    "import os\n",
    "import spacy\n",
    "nlp = spacy.load('en')\n",
    "from collections import Counter\n",
    "%matplotlib inline\n",
    "\n",
    "list_df = pd.read_csv('./archive/listings.csv')\n",
    "cal_df = pd.read_csv('./archive/calendar.csv')\n",
    "review_df = pd.read_csv('./archive/reviews.csv')"
   ]
  },
  {
   "cell_type": "markdown",
   "metadata": {},
   "source": [
    "We want to determine what features a listing must have to generate the highest price point. Features examined will be neighbourhood, amenities included, and rating"
   ]
  },
  {
   "cell_type": "markdown",
   "metadata": {},
   "source": [
    "- What amenities allow for the highest price point?\n",
    "- What style of accommodation  allows for highest revenue?\n",
    "- What score gives highest rating?\n",
    "- Can we predict price? What contributes to predicted price the most?\n",
    "Bonus\n",
    "- What adjectives best describe each neighborhood?"
   ]
  },
  {
   "cell_type": "code",
   "execution_count": null,
   "metadata": {},
   "outputs": [],
   "source": []
  }
 ],
 "metadata": {
  "kernelspec": {
   "display_name": "env",
   "language": "python",
   "name": "env"
  },
  "language_info": {
   "codemirror_mode": {
    "name": "ipython",
    "version": 3
   },
   "file_extension": ".py",
   "mimetype": "text/x-python",
   "name": "python",
   "nbconvert_exporter": "python",
   "pygments_lexer": "ipython3",
   "version": "3.7.0"
  }
 },
 "nbformat": 4,
 "nbformat_minor": 2
}
